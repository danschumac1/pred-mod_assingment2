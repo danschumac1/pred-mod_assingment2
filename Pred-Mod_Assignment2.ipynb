{
 "cells": [
  {
   "cell_type": "markdown",
   "id": "703b7ae7",
   "metadata": {},
   "source": [
    "# Predictive Modeling Assignment 3\n",
    "## ISLP Ch-3"
   ]
  },
  {
   "cell_type": "markdown",
   "id": "972afde9",
   "metadata": {},
   "source": [
    "#### imports and setup"
   ]
  },
  {
   "cell_type": "code",
   "execution_count": 2,
   "id": "87c32598",
   "metadata": {},
   "outputs": [],
   "source": [
    "import pandas as pd\n",
    "import numpy as np\n",
    "import matplotlib.pyplot as plt\n",
    "import seaborn as sns\n",
    "import statsmodels as st"
   ]
  },
  {
   "cell_type": "markdown",
   "id": "8ae6f6fe",
   "metadata": {},
   "source": [
    "### QUESTION # 2\n",
    "Carefully explain the differences between the KNN classifier and KNN regression methods."
   ]
  },
  {
   "cell_type": "markdown",
   "id": "a38fc056",
   "metadata": {},
   "source": [
    "### QUESTION # 9 \n",
    "This question involves the use of multiple linear regression on the Auto data set. \n",
    "#### (a) \n",
    "Produce a scatterplot matrix which includes all of the variables in the data set.  "
   ]
  },
  {
   "cell_type": "markdown",
   "id": "58865871",
   "metadata": {},
   "source": [
    "#### (b) \n",
    "Compute the matrix of correlations between the variables using the DataFrame.corr() method. .corr() "
   ]
  },
  {
   "cell_type": "markdown",
   "id": "fe1b2f07",
   "metadata": {},
   "source": [
    "#### (c) \n",
    "Use the sm.OLS() function to perform a multiple linear regression with mpg as the response and all other variables except name as the predictors. Use the summarize() function to print the results. Comment on the output. For instance: i. Is there a relationship between the predictors and the response? Use the anova_lm() function from statsmodels to answer this question.130 3. Linear Regression ii. Which predictors appear to have a statistically significant relationship to the response? iii. What does the coefficient for the year variable suggest? "
   ]
  },
  {
   "cell_type": "markdown",
   "id": "8fc07841",
   "metadata": {},
   "source": [
    "#### (d) \n",
    "Produce some of diagnostic plots of the linear regression fit as described in the lab. Comment on any problems you see with the fit. Do the residual plots suggest any unusually large outliers? Does the leverage plot identify any observations with unusually high leverage?"
   ]
  },
  {
   "cell_type": "markdown",
   "id": "feb7b1ef",
   "metadata": {},
   "source": [
    "#### (e) \n",
    "Fit some models with interactions as described in the lab. Do any interactions appear to be statistically significant? "
   ]
  },
  {
   "cell_type": "markdown",
   "id": "d2e84539",
   "metadata": {},
   "source": [
    "#### (f) \n",
    "Try a few different transformations of the variables, such as log(X), √X, X2. Comment on your findings."
   ]
  },
  {
   "cell_type": "markdown",
   "id": "63213565",
   "metadata": {},
   "source": [
    "### QUESTION # 10 \n",
    "\n",
    "This question should be answered using the Carseats data set. (a) Fit a multiple regression model to predict Sales using Price Urban, and US."
   ]
  },
  {
   "cell_type": "markdown",
   "id": "7f8099d9",
   "metadata": {},
   "source": [
    "#### (b) \n",
    "Provide an interpretation of each coefficient in the model. Be careful—some of the variables in the model are qualitative!\n"
   ]
  },
  {
   "cell_type": "markdown",
   "id": "d9864db4",
   "metadata": {},
   "source": [
    "#### (c) \n",
    "Write out the model in equation form, being careful to handle the qualitative variables properly.\n"
   ]
  },
  {
   "cell_type": "markdown",
   "id": "ceb99306",
   "metadata": {},
   "source": [
    "#### (d) \n",
    "For which of the predictors can you reject the null hypothesis H0 : βj = 0?\n"
   ]
  },
  {
   "cell_type": "markdown",
   "id": "e1cf9ed5",
   "metadata": {},
   "source": [
    "#### (e) \n",
    "On the basis of your response to the previous question, fit a smaller model that only uses the predictors for which there is evidence of association with the outcome.\n"
   ]
  },
  {
   "cell_type": "markdown",
   "id": "12e09e2a",
   "metadata": {},
   "source": [
    "#### (f) \n",
    "How well do the models in (a) and (e) fit the data?\n"
   ]
  },
  {
   "cell_type": "markdown",
   "id": "1d639c93",
   "metadata": {},
   "source": [
    "#### (g) \n",
    "Using the model from (e), obtain 95 % confidence intervals for the coefficient(s).\n"
   ]
  },
  {
   "cell_type": "markdown",
   "id": "937b3df8",
   "metadata": {},
   "source": [
    "#### (h) \n",
    "Is there evidence of outliers or high leverage observations in the model from (e)?"
   ]
  },
  {
   "cell_type": "markdown",
   "id": "8e499254",
   "metadata": {},
   "source": [
    "### QUESTION # 12\n",
    "\n",
    "This problem involves simple linear regression without an intercept. \n",
    "#### (a) \n",
    "Recall that the coefficient estimate βˆ for the linear regression of Y onto X without an intercept is given by (3.38). Under what circumstance is the coefficient estimate for the regression of X onto Y the same as the coefficient estimate for the regression of Y onto X? "
   ]
  },
  {
   "cell_type": "markdown",
   "id": "7d3ac533",
   "metadata": {},
   "source": [
    "#### (b) \n",
    "Generate an example in Python with n = 100 observations in which the coefficient estimate for the regression of X onto Y is different from the coefficient estimate for the regression of Y onto X. "
   ]
  },
  {
   "cell_type": "markdown",
   "id": "ef5c482d",
   "metadata": {},
   "source": [
    "#### (c) \n",
    "Generate an example in Python with n = 100 observations in which the coefficient estimate for the regression of X onto Y is the same as the coefficient estimate for the regression of Y onto X."
   ]
  }
 ],
 "metadata": {
  "hide_input": false,
  "kernelspec": {
   "display_name": "Python 3 (ipykernel)",
   "language": "python",
   "name": "python3"
  },
  "language_info": {
   "codemirror_mode": {
    "name": "ipython",
    "version": 3
   },
   "file_extension": ".py",
   "mimetype": "text/x-python",
   "name": "python",
   "nbconvert_exporter": "python",
   "pygments_lexer": "ipython3",
   "version": "3.9.12"
  }
 },
 "nbformat": 4,
 "nbformat_minor": 5
}
